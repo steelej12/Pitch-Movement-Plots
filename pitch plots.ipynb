{
 "cells": [
  {
   "cell_type": "code",
   "execution_count": null,
   "metadata": {},
   "outputs": [],
   "source": [
    "import pandas as pd\n",
    "import matplotlib.pyplot as plt\n",
    "import numpy as np\n",
    "\n",
    "pitch_data = pd.read_csv('tm.csv')\n",
    "\n",
    "pitch_colors = {\n",
    "    \"FourSeamFastBall\": \"red\",\n",
    "    \"TwoSeamFastBall\": \"blue\",\n",
    "    \"Sinker\": \"blue\",\n",
    "    \"Cutter\": \"violet\",\n",
    "    \"Fastball\": \"black\",\n",
    "    \"Curveball\": \"green\",\n",
    "    \"Knuckle Curve\": \"pink\",\n",
    "    \"Slider\": \"orange\",\n",
    "    \"ChangeUp\": \"purple\",\n",
    "    \"Splitter\": \"beige\",\n",
    "    \"Knuckleball\": \"gold\"\n",
    "}\n",
    "\n",
    "pitch_types = pitch_data['TaggedPitchType'].unique()\n",
    "\n",
    "plt.figure(figsize=(10, 8))\n",
    "\n",
    "for pitch_type in pitch_types:\n",
    "    subset = pitch_data[pitch_data['TaggedPitchType'] == pitch_type]\n",
    "    plt.scatter(subset['HorzBreak'], subset['InducedVertBreak'], color=pitch_colors[pitch_type], label=pitch_type, alpha=0.5)\n",
    "\n",
    "plt.axvline(x=0, color='black', linestyle='--')\n",
    "plt.axhline(y=0, color='black', linestyle='--')\n",
    "\n",
    "plt.ylabel('Induced Vertical Break')\n",
    "plt.xlabel('Horizontal Break')\n",
    "plt.title(' Pitch Movement')\n",
    "plt.xlim(-30, 30)\n",
    "plt.ylim(-30, 30)\n",
    "plt.xticks(np.arange(-20, 21, 5))\n",
    "plt.yticks(np.arange(-20, 21, 5))\n",
    "plt.gca().set_aspect('equal', adjustable='box')\n",
    "plt.legend(title='Pitch Type')\n",
    "\n",
    "plt.show()\n"
   ]
  }
 ],
 "metadata": {
  "kernelspec": {
   "display_name": "base",
   "language": "python",
   "name": "python3"
  },
  "language_info": {
   "codemirror_mode": {
    "name": "ipython",
    "version": 3
   },
   "file_extension": ".py",
   "mimetype": "text/x-python",
   "name": "python",
   "nbconvert_exporter": "python",
   "pygments_lexer": "ipython3",
   "version": "3.9.13"
  },
  "orig_nbformat": 4
 },
 "nbformat": 4,
 "nbformat_minor": 2
}
